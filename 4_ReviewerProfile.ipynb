{
 "cells": [
  {
   "cell_type": "markdown",
   "metadata": {},
   "source": [
    "# Notebook objective 1\n",
    "- __Inputs in folder models__ several serialized topic models (rpmdelpr,ldamodelpr, lsimodelpr, hpdmodellpr) gets with pull request datasets and dictionary of pull request corpus \n",
    "- __Input new pull-request text description__ \n",
    "- __Output__ using just one model get the number of topic for input  "
   ]
  },
  {
   "cell_type": "markdown",
   "metadata": {},
   "source": [
    "## Topic of new pullRequest "
   ]
  },
  {
   "cell_type": "code",
   "execution_count": 2,
   "metadata": {},
   "outputs": [
    {
     "name": "stdout",
     "output_type": "stream",
     "text": [
      "[(4, 0.15466855), (16, 0.69533145)]\n"
     ]
    }
   ],
   "source": [
    "import gensim\n",
    "from gensim.utils import simple_preprocess\n",
    "import gensim.models.ldamodel as ldamodel\n",
    "def getPullRequestTopicLDAModel(newpullrequets_text):\n",
    "    # Load persistent LDA model\n",
    "    ldamodelpr =ldamodel.LdaModel.load(\"./models/ldamodelpr\")\n",
    "    #Load dictionary\n",
    "    dictionary= gensim.corpora.Dictionary.load_from_text(\"./models/dict_pullrequets.txt\")\n",
    "    #Topic of a new pull request\n",
    "    prword=gensim.utils.simple_preprocess(str(newpullrequets_text),deacc=True)\n",
    "    #data_words_nostops = remove_stopwords(prwords)\n",
    "    pr_bow=dictionary.doc2bow(prword)\n",
    "    pr_lda = ldamodelpr[pr_bow]\n",
    "    return pr_lda\n",
    "\n",
    "newpullrequets_text=[\"elastic search cakephp bug java\"]\n",
    "pr_lda=getPullRequestTopicLDAModel(newpullrequets_text)\n",
    "print(pr_lda)\n",
    "# Show"
   ]
  },
  {
   "cell_type": "markdown",
   "metadata": {},
   "source": [
    "# Notebook objective 2\n",
    "- __Inputs in folder models__ several serialized topic models (rpmdelpr,ldamodelpr, lsimodelpr, hpdmodellpr) gets with pull request datasets and corpus in format mm\n",
    "- __Input two files csv with same information but different structure __\n",
    "    - reviews_xxxx.csv one file per review and a just one column reviewer_login\n",
    "    - reviews_xxxx_processed.csv one file per pullrequets severals columns for each reviewer\n",
    "\n",
    "- __Output__ using just one model calculate topics for each reviewer (reviewer profile)   \n",
    "    1. Extract reviewer pull resquests from reviews_xxxx.csv\n",
    "    2. Using topic model calculate topics of reviewer pullrequests\n",
    "    3. Define a function to know how a reviewer has participated in the pullrequest. It can be a count()  reviewer reviews. This information is avaible  reviews_xxxx_processed.csv"
   ]
  },
  {
   "cell_type": "markdown",
   "metadata": {},
   "source": [
    "### Extract reviewer pull resquests from reviews_xxxx.csv\n",
    "\n",
    "- Load csv reviews\n",
    "- Extract reviewer pull resquests from reviews_xxxx.csv\n"
   ]
  },
  {
   "cell_type": "code",
   "execution_count": 54,
   "metadata": {},
   "outputs": [
    {
     "name": "stdout",
     "output_type": "stream",
     "text": [
      "./reviews_playframework_playframework.csv\n",
      "./reviews_appium_appium.csv\n",
      "./reviews_cakephp_cakephp.csv\n",
      "./reviews_elastic_elasticsearch.csv\n",
      "./reviews_chartjs_Chart.js.csv\n",
      "./reviews_Leaflet_Leaflet.csv\n",
      "./reviews_angular_angular.js.csv\n",
      "./reviews_google_WebFundamentals.csv\n",
      "Number of files: 8 Number of instances: 17522\n"
     ]
    }
   ],
   "source": [
    "import os\n",
    "import glob\n",
    "import pandas as pd\n",
    "#Read csv\n",
    "def loadCsvPullRequestFolder(path):\n",
    "    \"\"\"Load pullrequest data from  csv file and generate a \n",
    "    list with all pull request\"\"\"\n",
    "    l_frames=list()\n",
    "    _totalfile=0\n",
    "    for filename in glob.glob(os.path.join(path, '*.csv')):        \n",
    "        print(filename)\n",
    "        df=pd.read_csv(filename, error_bad_lines=False, index_col=False, dtype='unicode')\n",
    "        l_frames.append(df)\n",
    "        _totalfile+=1\n",
    "        #print(lprbt[len(lprbt)-1])\n",
    "    df_result=pd.concat(l_frames)    \n",
    "    return _totalfile, df_result.shape[0], df_result\n",
    "\n",
    "def loadCsvPullRequestFile(filename):\n",
    "    \"\"\"Load pullrequest data from  csv file and generate a \n",
    "    list with all pull request\"\"\"\n",
    "    l_frames=list()\n",
    "    df_result=pd.read_csv(filename, error_bad_lines=False, index_col=False, dtype='unicode')\n",
    "    return 1, df_result.shape[0], df_result\n",
    "\n",
    "totalfiles,totalinstances,df_rev=loadCsvPullRequestFolder(path=\"./datasets/review/\")   \n",
    "print(\"Number of files: {} Number of instances: {}\".format(totalfiles,totalinstances))\n",
    "\n",
    "#totalfiles,totalinstances,df_rev=loadCsvPullRequestFile(filename=\"./reviews_appium_appium.csv\")"
   ]
  },
  {
   "cell_type": "markdown",
   "metadata": {},
   "source": [
    "### Create a reviewer dataframe group by pullrequest"
   ]
  },
  {
   "cell_type": "code",
   "execution_count": 55,
   "metadata": {},
   "outputs": [
    {
     "name": "stderr",
     "output_type": "stream",
     "text": [
      "/home/clopezno/anaconda3/envs/TextMining/lib/python3.6/site-packages/ipykernel_launcher.py:14: SettingWithCopyWarning: \n",
      "A value is trying to be set on a copy of a slice from a DataFrame.\n",
      "Try using .loc[row_indexer,col_indexer] = value instead\n",
      "\n",
      "See the caveats in the documentation: http://pandas.pydata.org/pandas-docs/stable/indexing.html#indexing-view-versus-copy\n",
      "  \n"
     ]
    },
    {
     "data": {
      "text/plain": [
       "['chartjs Chart.js JavaScript nan Update documentation of plugins to add Select2',\n",
       " 'chartjs Chart.js JavaScript nan Update documentation of plugins to add Select2',\n",
       " 'chartjs Chart.js JavaScript nan Update documentation of plugins to add Select2',\n",
       " 'chartjs Chart.js JavaScript nan Update documentation of plugins to add Select2']"
      ]
     },
     "execution_count": 55,
     "metadata": {},
     "output_type": "execute_result"
    }
   ],
   "source": [
    "import pandas as pd\n",
    "def createReviewerPullRequest(df_rev, str_user):\n",
    "    \"\"\"Select reviews of str_user and group all reviews by pullrequest\"\"\"\n",
    "    #TODO test this method\n",
    " \n",
    "    df_pullrequest_user=df_rev[df_rev['reviewer_login']== str_user]\n",
    "    df_pullrequest_user.groupby(['reviewer_login','pull_request_id']).sum()\n",
    "    \n",
    "    #print(df_pullrequest_user.head(10))\n",
    "    return df_pullrequest_user\n",
    "\n",
    "def createListPullRequest(df_pullrequest_user):\n",
    "    _lpr=list()\n",
    "    df_pullrequest_user[\"pull_request\"] = df_pullrequest_user[\"repository_owner\"].map(str) + \" \" + \\\n",
    "        df_pullrequest_user[\"repository_name\"].map(str) +  \" \" +  df_pullrequest_user[\"language\"].map(str) + \" \" +\\\n",
    "        df_pullrequest_user[\"pull_request_body\"].map(str) + \" \" +  df_pullrequest_user[\"pull_request_title\"].map(str)\n",
    "    [_lpr.append(pr) for pr in df_pullrequest_user.pull_request] \n",
    "    return _lpr\n",
    "\n",
    "## All reviewers\n",
    "reviewers=set(df_rev[\"reviewer_login\"])\n",
    "reviewers=sorted(reviewers)\n",
    "len(reviewers)\n",
    "\n",
    "## Example reviewer pull request\n",
    "df_pullrequest_user=createReviewerPullRequest(df_rev, reviewers[0])\n",
    "createListPullRequest(df_pullrequest_user)\n"
   ]
  },
  {
   "cell_type": "markdown",
   "metadata": {},
   "source": [
    "### 2 Using topic model calculate topics of reviewer pullrequests"
   ]
  },
  {
   "cell_type": "code",
   "execution_count": 23,
   "metadata": {},
   "outputs": [],
   "source": [
    "#TODO see objective 1 to know how to calulate a topic for a pullrequets"
   ]
  },
  {
   "cell_type": "markdown",
   "metadata": {},
   "source": [
    "###  3. Define a function to know how a reviewer has participated in the pullrequest. It can be a count()  reviewer reviews. This information is avaible  reviews_xxxx_processed.csv"
   ]
  },
  {
   "cell_type": "code",
   "execution_count": null,
   "metadata": {},
   "outputs": [],
   "source": [
    "#TODO "
   ]
  }
 ],
 "metadata": {
  "kernelspec": {
   "display_name": "Python 3",
   "language": "python",
   "name": "python3"
  },
  "language_info": {
   "codemirror_mode": {
    "name": "ipython",
    "version": 3
   },
   "file_extension": ".py",
   "mimetype": "text/x-python",
   "name": "python",
   "nbconvert_exporter": "python",
   "pygments_lexer": "ipython3",
   "version": "3.6.5"
  }
 },
 "nbformat": 4,
 "nbformat_minor": 2
}
